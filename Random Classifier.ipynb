{
  "cells": [
    {
      "cell_type": "markdown",
      "metadata": {
        "id": "RdUAPpnGCF47"
      },
      "source": [
        "# Random Forest Classifer for News Data\n",
        "\n",
        "## Idea:\n",
        "\n",
        "Implement a RFC for our news dataset, however we faced an initial complication:\n",
        "\n",
        "- Our feature variables are text and RFC only can use floating point numbers for classification\n",
        "\n",
        "## Solution\n",
        "\n",
        "Use gloVe word embeddings to embed every word in the title and the description, then use an aggregatation method to hopefully collate enough information to use for prediction. In the code below we have simply averaged the word embeddings."
      ]
    },
    {
      "cell_type": "code",
      "execution_count": 2,
      "metadata": {
        "id": "fjGqY7Z1uCBg"
      },
      "outputs": [
        {
          "name": "stderr",
          "output_type": "stream",
          "text": [
            "2024-04-16 12:32:30.842145: I tensorflow/core/platform/cpu_feature_guard.cc:210] This TensorFlow binary is optimized to use available CPU instructions in performance-critical operations.\n",
            "To enable the following instructions: AVX2 FMA, in other operations, rebuild TensorFlow with the appropriate compiler flags.\n",
            "/Users/simonklaassen/Library/Python/3.9/lib/python/site-packages/urllib3/__init__.py:35: NotOpenSSLWarning: urllib3 v2 only supports OpenSSL 1.1.1+, currently the 'ssl' module is compiled with 'LibreSSL 2.8.3'. See: https://github.com/urllib3/urllib3/issues/3020\n",
            "  warnings.warn(\n"
          ]
        }
      ],
      "source": [
        "import pandas as pd\n",
        "import numpy as np\n",
        "import csv\n",
        "\n",
        "from sklearn.ensemble import RandomForestClassifier\n",
        "from sklearn.metrics import accuracy_score, confusion_matrix, precision_score, recall_score, ConfusionMatrixDisplay\n",
        "from sklearn.model_selection import RandomizedSearchCV, train_test_split\n",
        "from scipy.stats import randint\n",
        "\n",
        "from tensorflow.keras.preprocessing.text import Tokenizer\n",
        "\n",
        "data = []\n",
        "words = []\n",
        "\n",
        "with open('train.csv') as f:\n",
        "  reader = csv.reader(f)\n",
        "  next(reader)\n",
        "  for row in reader:\n",
        "\n",
        "    # Tokenisation of words for embedding creation\n",
        "    t = int(row[0])\n",
        "    title = row[1].split()\n",
        "    title = [t.lower() for t in title]\n",
        "    description = row[2].split()\n",
        "    description = [d.lower() for d in description]\n",
        "    try:\n",
        "      words.extend(t.lower() for t in title)\n",
        "    except:\n",
        "      pass\n",
        "\n",
        "    data.append([t,title,description])"
      ]
    },
    {
      "cell_type": "code",
      "execution_count": 4,
      "metadata": {
        "id": "RnhtAwPz4_05"
      },
      "outputs": [],
      "source": [
        "# create the dict and tokenize the words\n",
        "tokenizer = Tokenizer()\n",
        "tokenizer.fit_on_texts(words)"
      ]
    },
    {
      "cell_type": "code",
      "execution_count": 7,
      "metadata": {
        "colab": {
          "base_uri": "https://localhost:8080/"
        },
        "id": "x7ucQ_eu6VK4",
        "outputId": "9f416e46-6892-444a-ddfb-755b75090563"
      },
      "outputs": [
        {
          "name": "stdout",
          "output_type": "stream",
          "text": [
            "Number of unique words in dictionary =  36752\n",
            "The first ten entries of the dictionary are =  {'to': 1, 'in': 2, '39': 3, 'for': 4, 'on': 5, 'of': 6, 's': 7, 'ap': 8, 'the': 9, 'b': 10}\n"
          ]
        }
      ],
      "source": [
        "# Creates a dictionary that maps each unique word to an idx.\n",
        "print(\"Number of unique words in dictionary = \",len(tokenizer.word_index))\n",
        "first_ten_entries = {key: tokenizer.word_index[key] for key in list(tokenizer.word_index.keys())[:10]}\n",
        "print(\"The first ten entries of the dictionary are = \", first_ten_entries)"
      ]
    },
    {
      "cell_type": "markdown",
      "metadata": {
        "id": "cWZI3r9h6ufQ"
      },
      "source": []
    },
    {
      "cell_type": "code",
      "execution_count": 9,
      "metadata": {
        "colab": {
          "base_uri": "https://localhost:8080/"
        },
        "id": "35tTVfNe6pdq",
        "outputId": "b3b9e0f6-77f2-44ae-ebf7-6d88847e17c2"
      },
      "outputs": [
        {
          "name": "stdout",
          "output_type": "stream",
          "text": [
            "/bin/bash: wget: command not found\n"
          ]
        },
        {
          "name": "stdout",
          "output_type": "stream",
          "text": [
            "unzip:  cannot find or open glove*.zip, glove*.zip.zip or glove*.zip.ZIP.\n",
            "\n",
            "No zipfiles found.\n"
          ]
        }
      ],
      "source": [
        "# Download and unzip the pre-trained gloVe word embeddings\n",
        "\n",
        "!wget http://nlp.stanford.edu/data/glove.6B.zip\n",
        "!unzip glove*.zip"
      ]
    },
    {
      "cell_type": "code",
      "execution_count": 62,
      "metadata": {
        "colab": {
          "base_uri": "https://localhost:8080/"
        },
        "id": "8Rre0jcN7Jcy",
        "outputId": "0689f78b-6740-4214-c2ae-17c01bf1525b"
      },
      "outputs": [
        {
          "name": "stdout",
          "output_type": "stream",
          "text": [
            "Dense vector for first word is =>  [ 0.68046999 -0.039263    0.30186    -0.17792     0.42962     0.032246\n",
            " -0.41376001  0.13228001 -0.29846999 -0.085253    0.17117999  0.22419\n",
            " -0.10046    -0.43652999  0.33418     0.67846     0.057204   -0.34448001\n",
            " -0.42785001 -0.43274999  0.55962998  0.10032     0.18677001 -0.26853999\n",
            "  0.037334   -2.09319997  0.22171    -0.39868     0.20912001 -0.55725002\n",
            "  3.88260007  0.47466001 -0.95657998 -0.37788001  0.20869    -0.32752001\n",
            "  0.12751     0.088359    0.16350999 -0.21634001 -0.094375    0.018324\n",
            "  0.21048    -0.03088    -0.19722     0.082279   -0.09434    -0.073297\n",
            " -0.064699   -0.26043999]\n"
          ]
        }
      ],
      "source": [
        "# Create a embedding_matrix, which has for each word in our word_index a corresponding\n",
        "# Embedding of size 50.\n",
        "\n",
        "def embedding_for_vocab(filepath, word_index,\n",
        "                        embedding_dim):\n",
        "    vocab_size = len(word_index) + 1\n",
        "\n",
        "    # Adding again 1 because of reserved 0 index\n",
        "    embedding_matrix_vocab = np.zeros((vocab_size,\n",
        "                                       embedding_dim))\n",
        "\n",
        "    with open(filepath, encoding=\"utf8\") as f:\n",
        "        for line in f:\n",
        "            word, *vector = line.split()\n",
        "            if word in word_index:\n",
        "                idx = word_index[word]\n",
        "                embedding_matrix_vocab[idx] = np.array(\n",
        "                    vector, dtype=np.float32)[:embedding_dim]\n",
        "\n",
        "    return embedding_matrix_vocab\n",
        "\n",
        "\n",
        "# matrix for vocab: word_index\n",
        "embedding_dim = 50\n",
        "embedding_matrix_vocab = embedding_for_vocab(\n",
        "    'glove.6B.50d.txt', tokenizer.word_index,\n",
        "  embedding_dim)\n",
        "\n",
        "print(\"Dense vector for the first word is => \",\n",
        "      embedding_matrix_vocab[1])"
      ]
    },
    {
      "cell_type": "code",
      "execution_count": 77,
      "metadata": {
        "colab": {
          "base_uri": "https://localhost:8080/"
        },
        "id": "5sWGCrJO9ORy",
        "outputId": "cd1c722b-9934-48ee-9f7e-c64cd0a1375c"
      },
      "outputs": [
        {
          "name": "stderr",
          "output_type": "stream",
          "text": [
            "/usr/local/lib/python3.10/dist-packages/numpy/core/fromnumeric.py:3504: RuntimeWarning: Mean of empty slice.\n",
            "  return _methods._mean(a, axis=axis, dtype=dtype,\n",
            "/usr/local/lib/python3.10/dist-packages/numpy/core/_methods.py:129: RuntimeWarning: invalid value encountered in scalar divide\n",
            "  ret = ret.dtype.type(ret / rcount)\n"
          ]
        }
      ],
      "source": [
        "# For a list of strings gather their respective word embeddings then average them\n",
        "\n",
        "def get_list_embedding(list, embedding_matrix, vocab_idx):\n",
        "\n",
        "  title_embedding = []\n",
        "\n",
        "  for word in list:\n",
        "    if word in vocab_idx:\n",
        "\n",
        "      idx = vocab_idx[word]\n",
        "      embedding = embedding_matrix[idx]\n",
        "      title_embedding.append(embedding)\n",
        "\n",
        "\n",
        "  return np.mean(title_embedding)\n",
        "\n",
        "\n",
        "print(get_list_embedding([\"the\",\"lazy\",\"dog\"], embedding_matrix_vocab, tokenizer.word_index))\n",
        "\n",
        "for d in data:\n",
        "  d[1] = get_list_embedding(d[1], embedding_matrix_vocab, tokenizer.word_index)\n",
        "  d[2] = get_list_embedding(d[2],embedding_matrix_vocab, tokenizer.word_index)\n"
      ]
    },
    {
      "cell_type": "code",
      "execution_count": 95,
      "metadata": {
        "colab": {
          "base_uri": "https://localhost:8080/"
        },
        "id": "5kr2wWyuxCVO",
        "outputId": "8a42b3eb-9415-491d-a986-7f513a618d9a"
      },
      "outputs": [
        {
          "name": "stdout",
          "output_type": "stream",
          "text": [
            "(119890, 3)\n"
          ]
        }
      ],
      "source": [
        "# Data => Train, test split\n",
        "\n",
        "data = pd.DataFrame(data, columns = (\"Target\",\"Title\",\"Description\"))\n",
        "\n",
        "print(data.shape)\n",
        "data = data.dropna()\n",
        "\n",
        "\n",
        "X = data.drop(\"Target\", axis = 1)\n",
        "y = data[\"Target\"]\n",
        "\n",
        "# Train split\n",
        "\n",
        "X_train, X_test, y_train, y_test = train_test_split(X,y, test_size = 0.2)\n"
      ]
    },
    {
      "cell_type": "code",
      "execution_count": 92,
      "metadata": {
        "colab": {
          "base_uri": "https://localhost:8080/",
          "height": 75
        },
        "id": "V2um-152zJ21",
        "outputId": "1ddb4204-87f0-4420-9cfb-797309e047ec"
      },
      "outputs": [
        {
          "data": {
            "text/html": [
              "<style>#sk-container-id-1 {color: black;background-color: white;}#sk-container-id-1 pre{padding: 0;}#sk-container-id-1 div.sk-toggleable {background-color: white;}#sk-container-id-1 label.sk-toggleable__label {cursor: pointer;display: block;width: 100%;margin-bottom: 0;padding: 0.3em;box-sizing: border-box;text-align: center;}#sk-container-id-1 label.sk-toggleable__label-arrow:before {content: \"▸\";float: left;margin-right: 0.25em;color: #696969;}#sk-container-id-1 label.sk-toggleable__label-arrow:hover:before {color: black;}#sk-container-id-1 div.sk-estimator:hover label.sk-toggleable__label-arrow:before {color: black;}#sk-container-id-1 div.sk-toggleable__content {max-height: 0;max-width: 0;overflow: hidden;text-align: left;background-color: #f0f8ff;}#sk-container-id-1 div.sk-toggleable__content pre {margin: 0.2em;color: black;border-radius: 0.25em;background-color: #f0f8ff;}#sk-container-id-1 input.sk-toggleable__control:checked~div.sk-toggleable__content {max-height: 200px;max-width: 100%;overflow: auto;}#sk-container-id-1 input.sk-toggleable__control:checked~label.sk-toggleable__label-arrow:before {content: \"▾\";}#sk-container-id-1 div.sk-estimator input.sk-toggleable__control:checked~label.sk-toggleable__label {background-color: #d4ebff;}#sk-container-id-1 div.sk-label input.sk-toggleable__control:checked~label.sk-toggleable__label {background-color: #d4ebff;}#sk-container-id-1 input.sk-hidden--visually {border: 0;clip: rect(1px 1px 1px 1px);clip: rect(1px, 1px, 1px, 1px);height: 1px;margin: -1px;overflow: hidden;padding: 0;position: absolute;width: 1px;}#sk-container-id-1 div.sk-estimator {font-family: monospace;background-color: #f0f8ff;border: 1px dotted black;border-radius: 0.25em;box-sizing: border-box;margin-bottom: 0.5em;}#sk-container-id-1 div.sk-estimator:hover {background-color: #d4ebff;}#sk-container-id-1 div.sk-parallel-item::after {content: \"\";width: 100%;border-bottom: 1px solid gray;flex-grow: 1;}#sk-container-id-1 div.sk-label:hover label.sk-toggleable__label {background-color: #d4ebff;}#sk-container-id-1 div.sk-serial::before {content: \"\";position: absolute;border-left: 1px solid gray;box-sizing: border-box;top: 0;bottom: 0;left: 50%;z-index: 0;}#sk-container-id-1 div.sk-serial {display: flex;flex-direction: column;align-items: center;background-color: white;padding-right: 0.2em;padding-left: 0.2em;position: relative;}#sk-container-id-1 div.sk-item {position: relative;z-index: 1;}#sk-container-id-1 div.sk-parallel {display: flex;align-items: stretch;justify-content: center;background-color: white;position: relative;}#sk-container-id-1 div.sk-item::before, #sk-container-id-1 div.sk-parallel-item::before {content: \"\";position: absolute;border-left: 1px solid gray;box-sizing: border-box;top: 0;bottom: 0;left: 50%;z-index: -1;}#sk-container-id-1 div.sk-parallel-item {display: flex;flex-direction: column;z-index: 1;position: relative;background-color: white;}#sk-container-id-1 div.sk-parallel-item:first-child::after {align-self: flex-end;width: 50%;}#sk-container-id-1 div.sk-parallel-item:last-child::after {align-self: flex-start;width: 50%;}#sk-container-id-1 div.sk-parallel-item:only-child::after {width: 0;}#sk-container-id-1 div.sk-dashed-wrapped {border: 1px dashed gray;margin: 0 0.4em 0.5em 0.4em;box-sizing: border-box;padding-bottom: 0.4em;background-color: white;}#sk-container-id-1 div.sk-label label {font-family: monospace;font-weight: bold;display: inline-block;line-height: 1.2em;}#sk-container-id-1 div.sk-label-container {text-align: center;}#sk-container-id-1 div.sk-container {/* jupyter's `normalize.less` sets `[hidden] { display: none; }` but bootstrap.min.css set `[hidden] { display: none !important; }` so we also need the `!important` here to be able to override the default hidden behavior on the sphinx rendered scikit-learn.org. See: https://github.com/scikit-learn/scikit-learn/issues/21755 */display: inline-block !important;position: relative;}#sk-container-id-1 div.sk-text-repr-fallback {display: none;}</style><div id=\"sk-container-id-1\" class=\"sk-top-container\"><div class=\"sk-text-repr-fallback\"><pre>RandomForestClassifier()</pre><b>In a Jupyter environment, please rerun this cell to show the HTML representation or trust the notebook. <br />On GitHub, the HTML representation is unable to render, please try loading this page with nbviewer.org.</b></div><div class=\"sk-container\" hidden><div class=\"sk-item\"><div class=\"sk-estimator sk-toggleable\"><input class=\"sk-toggleable__control sk-hidden--visually\" id=\"sk-estimator-id-1\" type=\"checkbox\" checked><label for=\"sk-estimator-id-1\" class=\"sk-toggleable__label sk-toggleable__label-arrow\">RandomForestClassifier</label><div class=\"sk-toggleable__content\"><pre>RandomForestClassifier()</pre></div></div></div></div></div>"
            ],
            "text/plain": [
              "RandomForestClassifier()"
            ]
          },
          "execution_count": 92,
          "metadata": {},
          "output_type": "execute_result"
        }
      ],
      "source": [
        "rf = RandomForestClassifier()\n",
        "rf.fit(X_train, y_train)"
      ]
    },
    {
      "cell_type": "code",
      "execution_count": 102,
      "metadata": {
        "colab": {
          "base_uri": "https://localhost:8080/"
        },
        "id": "ulGFa-QrzKyp",
        "outputId": "5284005e-791a-4361-f28e-edd1df8dec36"
      },
      "outputs": [
        {
          "name": "stdout",
          "output_type": "stream",
          "text": [
            "Accuracy: 0.8662106931353741\n"
          ]
        }
      ],
      "source": [
        "y_pred = rf.predict(X_test)\n",
        "\n",
        "accuracy = accuracy_score(y_test, y_pred)\n",
        "\n",
        "print(\"Accuracy:\", accuracy)"
      ]
    },
    {
      "cell_type": "code",
      "execution_count": 98,
      "metadata": {
        "colab": {
          "base_uri": "https://localhost:8080/",
          "height": 467
        },
        "id": "o00uAkmrBSdR",
        "outputId": "d3d0057c-1e44-4df3-e5b1-b72b57db5797"
      },
      "outputs": [
        {
          "data": {
            "text/plain": [
              "<sklearn.metrics._plot.confusion_matrix.ConfusionMatrixDisplay at 0x79773f6317e0>"
            ]
          },
          "execution_count": 98,
          "metadata": {},
          "output_type": "execute_result"
        },
        {
          "data": {
            "image/png": "[encoded data removed]",
            "text/plain": [
              "<Figure size 640x480 with 2 Axes>"
            ]
          },
          "metadata": {},
          "output_type": "display_data"
        }
      ],
      "source": [
        "cm = confusion_matrix(y_test,y_pred)\n",
        "\n",
        "ConfusionMatrixDisplay(confusion_matrix=cm).plot()"
      ]
    },
    {
      "cell_type": "code",
      "execution_count": 104,
      "metadata": {
        "colab": {
          "base_uri": "https://localhost:8080/",
          "height": 495
        },
        "id": "CkEJTz52B7EU",
        "outputId": "175783d4-d7b2-4126-86f1-0b0e66d2c1f9"
      },
      "outputs": [
        {
          "data": {
            "image/png": "[encoded data removed]",
            "text/plain": [
              "<Figure size 640x480 with 1 Axes>"
            ]
          },
          "metadata": {},
          "output_type": "display_data"
        }
      ],
      "source": [
        "# Create a series containing feature importances from the model and feature names from the training data\n",
        "feature_importances = pd.Series(rf.feature_importances_, index=X_train.columns).sort_values(ascending=False)\n",
        "\n",
        "# Plot a simple bar chart\n",
        "feature_importances.plot.bar()"
      ]
    },
    {
      "cell_type": "markdown",
      "metadata": {},
      "source": [
        "**Questions**\n",
        "\n",
        "***Conceptual***\n",
        "\n",
        "- Is our approach to translating the input data to numerical data ok? Any recommendations on how we could potentially do better? Is averaging fine?\n",
        "- Are the GloVe word embeddings the best embeddings for this purpose?\n",
        "\n",
        "***Implementation***\n",
        "\n",
        "- If a word appears in the dataset, but not in the GloVe embeddings (e.g. because it is a typo, as an example see printed dictionary - single letters), then its GloVe is by default an array of 0s. Is this a problem?\n",
        "- Set up a directory in Google Colab where we can access the Random-Forest Classifier and later also the LAAM notebook? Makes it easier to run it + faster thanks to Dario's subscription.\n",
        "- Why embeddings of size 50? According to the paper, performance is better for embeddings of a larger size.\n",
        "- Can we do a naive train/test split? Or do we have to balance the targets in the train and test datasets?\n",
        "    - Based on the confusion matrix, it seems like the samples are nicely balanced."
      ]
    }
  ],
  "metadata": {
    "colab": {
      "provenance": []
    },
    "kernelspec": {
      "display_name": "Python 3",
      "name": "python3"
    },
    "language_info": {
      "codemirror_mode": {
        "name": "ipython",
        "version": 3
      },
      "file_extension": ".py",
      "mimetype": "text/x-python",
      "name": "python",
      "nbconvert_exporter": "python",
      "pygments_lexer": "ipython3",
      "version": "3.9.6"
    }
  },
  "nbformat": 4,
  "nbformat_minor": 0
}
